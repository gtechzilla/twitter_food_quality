{
 "cells": [
  {
   "cell_type": "code",
   "execution_count": 1,
   "metadata": {},
   "outputs": [
    {
     "name": "stderr",
     "output_type": "stream",
     "text": [
      "[nltk_data] Downloading package punkt to\n",
      "[nltk_data]     C:\\Users\\bessy\\AppData\\Roaming\\nltk_data...\n",
      "[nltk_data]   Package punkt is already up-to-date!\n"
     ]
    }
   ],
   "source": [
    "#importing needed libraries\n",
    "import os\n",
    "import tweepy as tw\n",
    "import pandas as pd\n",
    "\n",
    "\n",
    "#sentiment analysis package\n",
    "#!pip install textblob\n",
    "from textblob import TextBlob\n",
    "\n",
    "#general text pre-processor\n",
    "#!pip install nltk\n",
    "import nltk\n",
    "from nltk.corpus import stopwords\n",
    "nltk.download('punkt')\n",
    "\n",
    "#tweet pre-processor \n",
    "#!pip install tweet-preprocessor\n",
    "import preprocessor as p"
   ]
  },
  {
   "cell_type": "code",
   "execution_count": 2,
   "metadata": {},
   "outputs": [],
   "source": [
    "#Variables that contains the user credentials to access Twitter API \n",
    "consumer_key = os.environ.get('TWITTER_API_KEY')\n",
    "consumer_secret = os.environ.get('TWITTER_API_SECRET')\n",
    "access_token = os.environ.get('TWITTER_ACCESS_TOKEN')\n",
    "access_token_secret = os.environ.get('TWITTER_ACCESS_TOKEN_SECRET')"
   ]
  },
  {
   "cell_type": "code",
   "execution_count": 3,
   "metadata": {},
   "outputs": [
    {
     "name": "stdout",
     "output_type": "stream",
     "text": [
      "Place(_api=<tweepy.api.API object at 0x7eff41910d90>, id='17ad6a68301cd28b', name='Kenya', full_name='Kenya', country='Kenya', country_code='KE', url='https://api.twitter.com/1.1/geo/id/17ad6a68301cd28b.json', place_type='country', attributes={}, bounding_box=BoundingBox(_api=<tweepy.api.API object at 0x7eff41910d90>, type='Polygon', coordinates=[[[33.9105011, -4.7672356], [33.9105011, 4.631608], [41.8998666, 4.631608], [41.8998666, -4.7672356], [33.9105011, -4.7672356]]]), centroid=[37.47826073131302, -0.06781380000000015], contained_within=[])\n"
     ]
    }
   ],
   "source": [
    "#loading our twitter api credentials\n",
    "auth = tw.OAuthHandler(consumer_key, consumer_secret)\n",
    "auth.set_access_token(access_token, access_token_secret)\n",
    "api = tw.API(auth, wait_on_rate_limit=True)"
   ]
  },
  {
   "cell_type": "code",
   "execution_count": null,
   "metadata": {},
   "outputs": [],
   "source": [
    "def data_download(keyword_list,date_since):\n",
    "    \"\"\"\"This function downloads tweets based on keywords and saves then to their own csv files\n",
    "\n",
    "    Args: Keyword_list - This is a list of keywords\n",
    "        : date_since - date from which you want to collect the tweets\n",
    "\n",
    "    \"\"\"\n",
    "\n",
    "    for keyword in keyword_list:\n",
    "        #downloads the given number of tweets\n",
    "        tweets = tw.Cursor(api.search,q=keyword,since=date_since).items(100)\n",
    "        # Iterate and print tweets\n",
    "        tweet_data = [[tweet.user.screen_name,tweet.created_at, tweet.user.location,tweet.text] for tweet in tweets]\n",
    "        tweet_text = pd.DataFrame(data=tweet_data, columns=[\"user\",\"time\", \"location\",\"text\"])\n",
    "        # save words to csv file for individual key word\n",
    "        tweet_text.to_csv('{keyword}.csv'.format(keyword=keyword))"
   ]
  },
  {
   "cell_type": "code",
   "execution_count": null,
   "metadata": {},
   "outputs": [],
   "source": [
    "#list of keywords to download\n",
    "keyword_list = ['food_prices','expiry_dates','junk_food','vegetables','diet','food poisoning']\n",
    "data_download(keyword_list,\"2020-04-16\")"
   ]
  },
  {
   "cell_type": "code",
   "execution_count": null,
   "metadata": {},
   "outputs": [],
   "source": []
  }
 ],
 "metadata": {
  "kernelspec": {
   "display_name": "Python 3",
   "language": "python",
   "name": "python3"
  },
  "language_info": {
   "codemirror_mode": {
    "name": "ipython",
    "version": 3
   },
   "file_extension": ".py",
   "mimetype": "text/x-python",
   "name": "python",
   "nbconvert_exporter": "python",
   "pygments_lexer": "ipython3",
   "version": "3.7.6"
  }
 },
 "nbformat": 4,
 "nbformat_minor": 4
}
